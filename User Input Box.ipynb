{
 "cells": [
  {
   "cell_type": "code",
   "execution_count": null,
   "metadata": {},
   "outputs": [],
   "source": [
    "from tkinter import *\n",
    "\n",
    "\n",
    "def create_rectangle(w=input(\"Type the Width of the box please : \"),h=input(\"Type the Length of the box please : \"),\n",
    "                    color = input(\"Type the Color of the box please : \")):\n",
    "    \n",
    "    root = Tk()\n",
    "    root.geometry(\"1280x1280\")\n",
    "    \n",
    "    canvas = Canvas(root,width= 1000,height = 1000,bg = 'White')\n",
    "    canvas.pack()\n",
    "    \n",
    "    canvas.create_rectangle(1,1,w,h,fill=color)\n",
    "    root.mainloop()\n",
    "    \n",
    "create_rectangle()  "
   ]
  },
  {
   "cell_type": "code",
   "execution_count": null,
   "metadata": {},
   "outputs": [],
   "source": []
  }
 ],
 "metadata": {
  "kernelspec": {
   "display_name": "Python 3",
   "language": "python",
   "name": "python3"
  },
  "language_info": {
   "codemirror_mode": {
    "name": "ipython",
    "version": 3
   },
   "file_extension": ".py",
   "mimetype": "text/x-python",
   "name": "python",
   "nbconvert_exporter": "python",
   "pygments_lexer": "ipython3",
   "version": "3.8.3"
  }
 },
 "nbformat": 4,
 "nbformat_minor": 4
}
